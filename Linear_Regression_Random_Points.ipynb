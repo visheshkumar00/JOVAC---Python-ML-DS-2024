{
 "cells": [
  {
   "cell_type": "code",
   "execution_count": 1,
   "id": "0b064412",
   "metadata": {},
   "outputs": [],
   "source": [
    "import numpy as np\n",
    "import matplotlib.pyplot as plt"
   ]
  },
  {
   "cell_type": "code",
   "execution_count": 2,
   "id": "6bca69f0",
   "metadata": {},
   "outputs": [],
   "source": [
    "X = np.random.randint(0, 1000, 450)\n",
    "X_test = np.random.randint(1000, 5000, 20)"
   ]
  },
  {
   "cell_type": "code",
   "execution_count": 3,
   "id": "2c8ccae2",
   "metadata": {},
   "outputs": [
    {
     "data": {
      "text/plain": [
       "(450,)"
      ]
     },
     "execution_count": 3,
     "metadata": {},
     "output_type": "execute_result"
    }
   ],
   "source": [
    "X.shape"
   ]
  },
  {
   "cell_type": "code",
   "execution_count": 4,
   "id": "d201a928",
   "metadata": {},
   "outputs": [],
   "source": [
    "u = X.mean()\n",
    "std = X.std()\n",
    "X = (X - u)/std\n",
    "\n",
    "u = X_test.mean()\n",
    "std = X_test.std()\n",
    "X_test = (X_test - u)/std"
   ]
  },
  {
   "cell_type": "code",
   "execution_count": 5,
   "id": "fa48ddd2",
   "metadata": {},
   "outputs": [],
   "source": [
    "Y = []\n",
    "for i in X:\n",
    "    Y.append(3 * i + 21)"
   ]
  },
  {
   "cell_type": "code",
   "execution_count": 6,
   "id": "17aa0fdd",
   "metadata": {},
   "outputs": [
    {
     "data": {
      "text/plain": [
       "[<matplotlib.lines.Line2D at 0x2bdd0b2d9a0>]"
      ]
     },
     "execution_count": 6,
     "metadata": {},
     "output_type": "execute_result"
    },
    {
     "data": {
      "image/png": "[encoded data removed]",
      "text/plain": [
       "<Figure size 640x480 with 1 Axes>"
      ]
     },
     "metadata": {},
     "output_type": "display_data"
    }
   ],
   "source": [
    "plt.plot(X, Y)"
   ]
  },
  {
   "cell_type": "code",
   "execution_count": 7,
   "id": "a213a428",
   "metadata": {},
   "outputs": [],
   "source": [
    "def hypothesis(X, weights):\n",
    "    y = weights[0] + weights[1] * X[1]\n",
    "    return y"
   ]
  },
  {
   "cell_type": "code",
   "execution_count": 8,
   "id": "455c2cf2",
   "metadata": {},
   "outputs": [],
   "source": [
    "def loss_func(X, Y, weights):\n",
    "    loss = 0\n",
    "    for i in range(X.shape[0]):\n",
    "        y_pred = hypothesis(X[i], weights)\n",
    "        \n",
    "        loss += (y_pred - Y[i]) ** 2\n",
    "    return loss/X.shape[0]"
   ]
  },
  {
   "cell_type": "code",
   "execution_count": 9,
   "id": "e19b2388",
   "metadata": {},
   "outputs": [],
   "source": [
    "def gradient(X, Y, weights):\n",
    "    grad = np.zeros((2, ))\n",
    "    \n",
    "    for i in range(X.shape[0]):\n",
    "        y_pred = hypothesis(X[i], weights)\n",
    "        \n",
    "        grad[0] += (y_pred - Y[i]) * X[i][0]\n",
    "        grad[1] += (y_pred - Y[i]) * X[i][1]\n",
    "        \n",
    "    return grad/X.shape[0]"
   ]
  },
  {
   "cell_type": "code",
   "execution_count": 10,
   "id": "bd21f6c5",
   "metadata": {},
   "outputs": [],
   "source": [
    "def gradient_descent(X, Y, alpha = 0.003):\n",
    "    weights = np.zeros((2, ))\n",
    "    \n",
    "    cost = []\n",
    "    \n",
    "    epochs = 10000\n",
    "    for i in range(epochs):\n",
    "        grad = gradient(X, Y, weights)\n",
    "        cost.append(loss_func(X, Y, weights))\n",
    "        \n",
    "        weights[0] = weights[0] - alpha * grad[0]\n",
    "        weights[1] = weights[1] - alpha * grad[1]\n",
    "        \n",
    "    return cost, weights"
   ]
  },
  {
   "cell_type": "code",
   "execution_count": 11,
   "id": "5aaffc87",
   "metadata": {},
   "outputs": [],
   "source": [
    "X = X.reshape((-1, 1))\n",
    "x0 = np.ones((X.shape[0], 1))\n",
    "X = np.hstack((x0, X))"
   ]
  },
  {
   "cell_type": "code",
   "execution_count": 12,
   "id": "53125b12",
   "metadata": {},
   "outputs": [
    {
     "data": {
      "text/plain": [
       "(450, 2)"
      ]
     },
     "execution_count": 12,
     "metadata": {},
     "output_type": "execute_result"
    }
   ],
   "source": [
    "X.shape"
   ]
  },
  {
   "cell_type": "code",
   "execution_count": 13,
   "id": "583bfdb5",
   "metadata": {},
   "outputs": [],
   "source": [
    "Y = np.array(Y)\n",
    "Y = Y.reshape((-1, 1))"
   ]
  },
  {
   "cell_type": "code",
   "execution_count": 14,
   "id": "a09a6c83",
   "metadata": {},
   "outputs": [],
   "source": [
    "cost, weights = gradient_descent(X, Y)"
   ]
  },
  {
   "cell_type": "code",
   "execution_count": 15,
   "id": "c28691d9",
   "metadata": {},
   "outputs": [
    {
     "data": {
      "text/plain": [
       "array([21.,  3.])"
      ]
     },
     "execution_count": 15,
     "metadata": {},
     "output_type": "execute_result"
    }
   ],
   "source": [
    "weights"
   ]
  },
  {
   "cell_type": "code",
   "execution_count": null,
   "id": "c5231ac3",
   "metadata": {},
   "outputs": [],
   "source": []
  }
 ],
 "metadata": {
  "kernelspec": {
   "display_name": "Python 3 (ipykernel)",
   "language": "python",
   "name": "python3"
  },
  "language_info": {
   "codemirror_mode": {
    "name": "ipython",
    "version": 3
   },
   "file_extension": ".py",
   "mimetype": "text/x-python",
   "name": "python",
   "nbconvert_exporter": "python",
   "pygments_lexer": "ipython3",
   "version": "3.8.10"
  }
 },
 "nbformat": 4,
 "nbformat_minor": 5
}
